{
 "cells": [
  {
   "attachments": {},
   "cell_type": "markdown",
   "metadata": {},
   "source": [
    "<p>\n",
    "1. Haga un programa en Python que reciba de par´ametro un nu´mero de segundos y que despliegue en pantalla, las horas, minutos y segundos que representan. Por ejemplo:\n",
    "Si el nu´mero de segundos recibidos fuera: 2743 entonces su programa deber´ıa desplegar:\n",
    "Horas: 0, Minutos: 45 , Segundos: 43\n",
    "Si el nu´mero de segundos recibidos fuera 5871: Horas: 1, Minutos: 37 , Segundos: 51\n",
    "Recuerde manejar excepciones y errores que considere necesarios.\n",
    "</p>"
   ]
  },
  {
   "cell_type": "markdown",
   "metadata": {},
   "source": []
  },
  {
   "cell_type": "code",
   "execution_count": null,
   "metadata": {},
   "outputs": [
    {
     "data": {
      "text/plain": [
       "(3800, 1, 3, 20)"
      ]
     },
     "execution_count": 22,
     "metadata": {},
     "output_type": "execute_result"
    }
   ],
   "source": [
    "segundos = int(input(\"Ingresa la cantidad de segundos \"))\n",
    "horas = segundos//60//60\n",
    "minutos = (segundos//60)-horas*60\n",
    "segundo = (segundos)-minutos*60-horas*60*60\n",
    "segundos,horas, minutos,segundo\n",
    "\n",
    "print(f\"Horas: {horas}, Minutos: {minutos}, Segundos: {segundo}\")"
   ]
  },
  {
   "cell_type": "code",
   "execution_count": 27,
   "metadata": {},
   "outputs": [
    {
     "name": "stderr",
     "output_type": "stream",
     "text": [
      "warning: LF will be replaced by CRLF in laboratorio2.ipynb.\n",
      "The file will have its original line endings in your working directory\n"
     ]
    }
   ],
   "source": [
    "!git add ."
   ]
  },
  {
   "cell_type": "code",
   "execution_count": 29,
   "metadata": {},
   "outputs": [
    {
     "name": "stdout",
     "output_type": "stream",
     "text": [
      "[main 10940c3] Esqueleto de la funcion\n",
      " 1 file changed, 106 insertions(+)\n",
      " create mode 100644 laboratorio2.ipynb\n"
     ]
    }
   ],
   "source": [
    "!git commit -m \"Esqueleto de la funcion\""
   ]
  },
  {
   "cell_type": "code",
   "execution_count": 30,
   "metadata": {},
   "outputs": [
    {
     "name": "stderr",
     "output_type": "stream",
     "text": [
      "To https://github.com/ronaldbailey/Laboratorio-2---Programaci-n-en-Python-.git\n",
      "   72a5948..10940c3  main -> main\n"
     ]
    }
   ],
   "source": [
    "!git push"
   ]
  },
  {
   "cell_type": "code",
   "execution_count": 38,
   "metadata": {},
   "outputs": [
    {
     "name": "stdout",
     "output_type": "stream",
     "text": [
      "Horas: 1, Minutos: 1, Segundos: 0\n",
      "programa terminado\n"
     ]
    }
   ],
   "source": [
    "try:\n",
    "    segundos = int(input(\"Ingresa la cantidad de segundos \"))\n",
    "    horas = segundos//60//60\n",
    "    minutos = (segundos//60)-horas*60\n",
    "    segundo = (segundos)-minutos*60-horas*60*60\n",
    "    segundos,horas, minutos,segundo\n",
    "    print(f\"Horas: {horas}, Minutos: {minutos}, Segundos: {segundo}\")\n",
    "except ValueError as error:\n",
    "    print('No ingrese numeros decimales ni letras')\n",
    "finally:\n",
    "    print(\"programa terminado\")\n",
    "\n"
   ]
  },
  {
   "cell_type": "code",
   "execution_count": 39,
   "metadata": {},
   "outputs": [
    {
     "name": "stderr",
     "output_type": "stream",
     "text": [
      "warning: LF will be replaced by CRLF in laboratorio2.ipynb.\n",
      "The file will have its original line endings in your working directory\n"
     ]
    },
    {
     "name": "stdout",
     "output_type": "stream",
     "text": [
      "[main 03bbd65] Incluido el manejo de errores\n",
      " 1 file changed, 66 insertions(+), 10 deletions(-)\n"
     ]
    },
    {
     "name": "stderr",
     "output_type": "stream",
     "text": [
      "To https://github.com/ronaldbailey/Laboratorio-2---Programaci-n-en-Python-.git\n",
      "   10940c3..03bbd65  main -> main\n"
     ]
    }
   ],
   "source": [
    "!git add .\n",
    "!git commit -m \"Incluido el manejo de errores\"\n",
    "!git push"
   ]
  },
  {
   "attachments": {},
   "cell_type": "markdown",
   "metadata": {},
   "source": [
    "<p>\n",
    "2 .Haga una funci´on en Python que dado un nu´mero entre 1 y 20. Y un car´acter cualquiera\n",
    "despliegue cuatro patrones triangulares.\n",
    "Por ejemplo si el usuario ingresara el nu´mero 4 y el s´ımbolo * el programa deber´a desplegar\n",
    "lo siguiente:\n",
    "</p>"
   ]
  },
  {
   "cell_type": "code",
   "execution_count": 62,
   "metadata": {},
   "outputs": [
    {
     "name": "stdout",
     "output_type": "stream",
     "text": [
      "x    xxxxxxxxxxxxxxxxxxxx    xxxxxxxxxxxxxxxxxxxxx    xxx\n",
      "xx    xxxxxxxxxxxxxxxxxxx    xxxxxxxxxxxxxxxxxxxx    xxxx\n",
      "xxx    xxxxxxxxxxxxxxxxxx    xxxxxxxxxxxxxxxxxxx    xxxxx\n",
      "xxxx    xxxxxxxxxxxxxxxxx    xxxxxxxxxxxxxxxxxx    xxxxxx\n",
      "xxxxx    xxxxxxxxxxxxxxxx    xxxxxxxxxxxxxxxxx    xxxxxxx\n",
      "xxxxxx    xxxxxxxxxxxxxxx    xxxxxxxxxxxxxxxx    xxxxxxxx\n",
      "xxxxxxx    xxxxxxxxxxxxxx    xxxxxxxxxxxxxxx    xxxxxxxxx\n",
      "xxxxxxxx    xxxxxxxxxxxxx    xxxxxxxxxxxxxx    xxxxxxxxxx\n",
      "xxxxxxxxx    xxxxxxxxxxxx    xxxxxxxxxxxxx    xxxxxxxxxxx\n",
      "xxxxxxxxxx    xxxxxxxxxxx    xxxxxxxxxxxx    xxxxxxxxxxxx\n",
      "xxxxxxxxxxx    xxxxxxxxxx    xxxxxxxxxxx    xxxxxxxxxxxxx\n",
      "xxxxxxxxxxxx    xxxxxxxxx    xxxxxxxxxx    xxxxxxxxxxxxxx\n",
      "xxxxxxxxxxxxx    xxxxxxxx    xxxxxxxxx    xxxxxxxxxxxxxxx\n",
      "xxxxxxxxxxxxxx    xxxxxxx    xxxxxxxx    xxxxxxxxxxxxxxxx\n",
      "xxxxxxxxxxxxxxx    xxxxxx    xxxxxxx    xxxxxxxxxxxxxxxxx\n",
      "xxxxxxxxxxxxxxxx    xxxxx    xxxxxx    xxxxxxxxxxxxxxxxxx\n",
      "xxxxxxxxxxxxxxxxx    xxxx    xxxxx    xxxxxxxxxxxxxxxxxxx\n",
      "xxxxxxxxxxxxxxxxxx    xxx    xxxx    xxxxxxxxxxxxxxxxxxxx\n",
      "xxxxxxxxxxxxxxxxxxx    xx    xxx    xxxxxxxxxxxxxxxxxxxxx\n",
      "xxxxxxxxxxxxxxxxxxxx    x    xx    xxxxxxxxxxxxxxxxxxxxxx\n"
     ]
    }
   ],
   "source": [
    "numero = int(input(\"ingres un numero del 1 al 20\"))\n",
    "caracter = input(\"ingrese un caracter\")\n",
    "\n",
    "for i in range(1,numero+1):\n",
    "    print(caracter*i+\"    \"+caracter*(numero-i+1)+\"    \"+caracter*(numero-i+2)+\"    \"+caracter*(i+2))"
   ]
  },
  {
   "cell_type": "code",
   "execution_count": 65,
   "metadata": {},
   "outputs": [
    {
     "name": "stderr",
     "output_type": "stream",
     "text": [
      "warning: LF will be replaced by CRLF in laboratorio2.ipynb.\n",
      "The file will have its original line endings in your working directory\n"
     ]
    },
    {
     "name": "stdout",
     "output_type": "stream",
     "text": [
      "[main e24a512] Esqueleto del ejercicio 2\n",
      " 1 file changed, 130 insertions(+)\n"
     ]
    },
    {
     "name": "stderr",
     "output_type": "stream",
     "text": [
      "To https://github.com/ronaldbailey/Laboratorio-2---Programaci-n-en-Python-.git\n",
      "   03bbd65..e24a512  main -> main\n"
     ]
    }
   ],
   "source": [
    "!git add .\n",
    "!git commit -m \"Esqueleto del ejercicio 2\"\n",
    "!git push"
   ]
  },
  {
   "cell_type": "code",
   "execution_count": 86,
   "metadata": {},
   "outputs": [
    {
     "name": "stdout",
     "output_type": "stream",
     "text": [
      "x    xxxxxxxxxxxxxxxxxxxx    xxxxxxxxxxxxxxxxxxxxx    xxx\n",
      "xx    xxxxxxxxxxxxxxxxxxx    xxxxxxxxxxxxxxxxxxxx    xxxx\n",
      "xxx    xxxxxxxxxxxxxxxxxx    xxxxxxxxxxxxxxxxxxx    xxxxx\n",
      "xxxx    xxxxxxxxxxxxxxxxx    xxxxxxxxxxxxxxxxxx    xxxxxx\n",
      "xxxxx    xxxxxxxxxxxxxxxx    xxxxxxxxxxxxxxxxx    xxxxxxx\n",
      "xxxxxx    xxxxxxxxxxxxxxx    xxxxxxxxxxxxxxxx    xxxxxxxx\n",
      "xxxxxxx    xxxxxxxxxxxxxx    xxxxxxxxxxxxxxx    xxxxxxxxx\n",
      "xxxxxxxx    xxxxxxxxxxxxx    xxxxxxxxxxxxxx    xxxxxxxxxx\n",
      "xxxxxxxxx    xxxxxxxxxxxx    xxxxxxxxxxxxx    xxxxxxxxxxx\n",
      "xxxxxxxxxx    xxxxxxxxxxx    xxxxxxxxxxxx    xxxxxxxxxxxx\n",
      "xxxxxxxxxxx    xxxxxxxxxx    xxxxxxxxxxx    xxxxxxxxxxxxx\n",
      "xxxxxxxxxxxx    xxxxxxxxx    xxxxxxxxxx    xxxxxxxxxxxxxx\n",
      "xxxxxxxxxxxxx    xxxxxxxx    xxxxxxxxx    xxxxxxxxxxxxxxx\n",
      "xxxxxxxxxxxxxx    xxxxxxx    xxxxxxxx    xxxxxxxxxxxxxxxx\n",
      "xxxxxxxxxxxxxxx    xxxxxx    xxxxxxx    xxxxxxxxxxxxxxxxx\n",
      "xxxxxxxxxxxxxxxx    xxxxx    xxxxxx    xxxxxxxxxxxxxxxxxx\n",
      "xxxxxxxxxxxxxxxxx    xxxx    xxxxx    xxxxxxxxxxxxxxxxxxx\n",
      "xxxxxxxxxxxxxxxxxx    xxx    xxxx    xxxxxxxxxxxxxxxxxxxx\n",
      "xxxxxxxxxxxxxxxxxxx    xx    xxx    xxxxxxxxxxxxxxxxxxxxx\n",
      "xxxxxxxxxxxxxxxxxxxx    x    xx    xxxxxxxxxxxxxxxxxxxxxx\n",
      "Proceso termindado!\n"
     ]
    }
   ],
   "source": [
    "try:\n",
    "    numero = int(input(\"ingres un numero del 1 al 20\"))\n",
    "    if (numero>0) and (numero<=20) :\n",
    "        caracter = input(\"ingrese un caracter\")\n",
    "        for i in range(1,numero+1):\n",
    "            print(caracter*i+\"    \"+caracter*(numero-i+1)+\"    \"+caracter*(numero-i+2)+\"    \"+caracter*(i+2))\n",
    "    else:\n",
    "        print(\"El numero que ingresaste tiene que estar entre 1 y 20 \")\n",
    "except ValueError as error:\n",
    "    print(\"Ingresaste caracteres o numeros decimales\")\n",
    "finally:\n",
    "    print(\"Proceso termindado!\")"
   ]
  },
  {
   "cell_type": "code",
   "execution_count": 87,
   "metadata": {},
   "outputs": [
    {
     "name": "stderr",
     "output_type": "stream",
     "text": [
      "warning: LF will be replaced by CRLF in laboratorio2.ipynb.\n",
      "The file will have its original line endings in your working directory\n"
     ]
    },
    {
     "name": "stdout",
     "output_type": "stream",
     "text": [
      "[main fab1226] manejo de errores\n",
      " 1 file changed, 62 insertions(+), 10 deletions(-)\n"
     ]
    },
    {
     "name": "stderr",
     "output_type": "stream",
     "text": [
      "To https://github.com/ronaldbailey/Laboratorio-2---Programaci-n-en-Python-.git\n",
      "   e24a512..fab1226  main -> main\n"
     ]
    }
   ],
   "source": [
    "!git add .\n",
    "!git commit -m \"manejo de errores\"\n",
    "!git push"
   ]
  },
  {
   "attachments": {},
   "cell_type": "markdown",
   "metadata": {},
   "source": [
    "<p>\n",
    "3. Haga un programa en Python que la fecha de nacimiento de una persona (puede ingresar por\n",
    "separado cada valor, es decir pedir primero d´ıa, luego mes y luego an˜o), despliegue la edad\n",
    "de la persona en an˜os, meses y d´ıas. Su resultado puede ser aproximado.\n",
    "</p>"
   ]
  },
  {
   "cell_type": "markdown",
   "metadata": {},
   "source": []
  },
  {
   "cell_type": "code",
   "execution_count": 104,
   "metadata": {},
   "outputs": [
    {
     "name": "stdout",
     "output_type": "stream",
     "text": [
      "La edad es aproximadamente 36 años, 5 meses y 23 días.\n",
      "Programa termindado!\n"
     ]
    }
   ],
   "source": [
    "from datetime import  date\n",
    "\n",
    "dia = input(\"Ingrese el dia\")\n",
    "mes = input(\"ingrese el mes\")\n",
    "anio = input(\"ingrese el año\")\n",
    "try:\n",
    "    diferencia = date.today() - date(int(anio), int(mes), int(dia))\n",
    "    edad_en_años = int(diferencia.days / 365)\n",
    "    edad_en_meses = int((diferencia.days % 365) / 30)\n",
    "    edad_en_días = int((diferencia.days % 365) % 30)\n",
    "    print(f\"La edad es aproximadamente {edad_en_años} años, {edad_en_meses} meses y {edad_en_días} días.\")\n",
    "except ValueError as error:\n",
    "    print(\"ingresaste valores erroneos\")\n",
    "finally:\n",
    "    print(\"Programa termindado!\")"
   ]
  },
  {
   "cell_type": "code",
   "execution_count": 105,
   "metadata": {},
   "outputs": [
    {
     "name": "stderr",
     "output_type": "stream",
     "text": [
      "warning: LF will be replaced by CRLF in laboratorio2.ipynb.\n",
      "The file will have its original line endings in your working directory\n"
     ]
    },
    {
     "name": "stdout",
     "output_type": "stream",
     "text": [
      "[main dd10357] Codigo del ejercicio 3\n",
      " 1 file changed, 86 insertions(+), 1 deletion(-)\n"
     ]
    },
    {
     "name": "stderr",
     "output_type": "stream",
     "text": [
      "To https://github.com/ronaldbailey/Laboratorio-2---Programaci-n-en-Python-.git\n",
      "   fab1226..dd10357  main -> main\n"
     ]
    }
   ],
   "source": [
    "!git add .\n",
    "!git commit -m \"Codigo del ejercicio 3\"\n",
    "!git push"
   ]
  },
  {
   "attachments": {},
   "cell_type": "markdown",
   "metadata": {},
   "source": [
    "<p>\n",
    "4. Escriba una funci´on en Python que dada una tupla de elementos (nu´meros o letras) esta se\n",
    "convierta a un string. Tomar nota del siguiente ejemplo:\n",
    "Si la entrada fuera: (10, 20, 40, 5, 70)\n",
    "La salida deber´ıa ser: 102040570\n",
    "</P>"
   ]
  },
  {
   "cell_type": "code",
   "execution_count": 107,
   "metadata": {},
   "outputs": [
    {
     "name": "stdout",
     "output_type": "stream",
     "text": [
      "102040570\n"
     ]
    }
   ],
   "source": [
    "tupla =  (10, 20, 40, 5, 70)\n",
    "\n",
    "def transformarTupla(tupla):\n",
    "    return ''.join([str(elemento) for elemento in tupla])\n",
    "\n",
    "print(transformarTupla(tupla))\n"
   ]
  },
  {
   "cell_type": "code",
   "execution_count": 108,
   "metadata": {},
   "outputs": [
    {
     "name": "stderr",
     "output_type": "stream",
     "text": [
      "warning: LF will be replaced by CRLF in laboratorio2.ipynb.\n",
      "The file will have its original line endings in your working directory\n"
     ]
    },
    {
     "name": "stdout",
     "output_type": "stream",
     "text": [
      "[main 6ce68f1] Funcion que convierte tuplas a string\n",
      " 1 file changed, 72 insertions(+), 1 deletion(-)\n"
     ]
    },
    {
     "name": "stderr",
     "output_type": "stream",
     "text": [
      "To https://github.com/ronaldbailey/Laboratorio-2---Programaci-n-en-Python-.git\n",
      "   dd10357..6ce68f1  main -> main\n"
     ]
    }
   ],
   "source": [
    "!git add .\n",
    "!git commit -m \"Funcion que convierte tuplas a string\"\n",
    "!git push"
   ]
  },
  {
   "attachments": {},
   "cell_type": "markdown",
   "metadata": {},
   "source": [
    "<p>\n",
    "5. Cree un programa en Python que dada una lista de tuplas, elimine las tuplas que est´an vac´ıas.\n",
    "Tomar nota del siguiente ejemplo:\n",
    "\n",
    "1. Si la lista fuera: [(), (), (’X’,), (’a’, ’b’), (’a’, ’b’, ’c’), (’d’)]\n",
    "2. El resultado deber´ıa ser: [(’X’), (’a’, ’b’), (’a’, ’b’, ’c’), ’d’]\n",
    "\n",
    "</p>"
   ]
  },
  {
   "cell_type": "code",
   "execution_count": 120,
   "metadata": {},
   "outputs": [
    {
     "name": "stdout",
     "output_type": "stream",
     "text": [
      "['X', ('a', 'b'), ('a', 'b', 'c'), 'd']\n"
     ]
    }
   ],
   "source": [
    "tuplaEjemplo = ((),() , 'X', ('a', 'b'), ('a', 'b', 'c'), ('d'))\n",
    "\n",
    "print([element for element in tuplaEjemplo if len(element) > 0])"
   ]
  },
  {
   "cell_type": "code",
   "execution_count": 121,
   "metadata": {},
   "outputs": [
    {
     "name": "stderr",
     "output_type": "stream",
     "text": [
      "warning: LF will be replaced by CRLF in laboratorio2.ipynb.\n",
      "The file will have its original line endings in your working directory\n"
     ]
    },
    {
     "name": "stdout",
     "output_type": "stream",
     "text": [
      "[main 2dd4710] Funcion que convierte tuplas a string\n",
      " 1 file changed, 70 insertions(+)\n"
     ]
    },
    {
     "name": "stderr",
     "output_type": "stream",
     "text": [
      "To https://github.com/ronaldbailey/Laboratorio-2---Programaci-n-en-Python-.git\n",
      "   6ce68f1..2dd4710  main -> main\n"
     ]
    }
   ],
   "source": [
    "!git add .\n",
    "!git commit -m \"Funcion que retira los elementos vacios de una tupla\"\n",
    "!git push"
   ]
  },
  {
   "cell_type": "code",
   "execution_count": null,
   "metadata": {},
   "outputs": [],
   "source": []
  }
 ],
 "metadata": {
  "kernelspec": {
   "display_name": ".lab1",
   "language": "python",
   "name": "python3"
  },
  "language_info": {
   "codemirror_mode": {
    "name": "ipython",
    "version": 3
   },
   "file_extension": ".py",
   "mimetype": "text/x-python",
   "name": "python",
   "nbconvert_exporter": "python",
   "pygments_lexer": "ipython3",
   "version": "3.10.4"
  },
  "orig_nbformat": 4,
  "vscode": {
   "interpreter": {
    "hash": "7adbce2b6e7e5f133ffdfc81941aca518029a9627b82a13940b2da088a335493"
   }
  }
 },
 "nbformat": 4,
 "nbformat_minor": 2
}
