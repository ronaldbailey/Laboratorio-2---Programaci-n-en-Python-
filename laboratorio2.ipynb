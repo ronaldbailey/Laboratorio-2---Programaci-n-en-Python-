{
 "cells": [
  {
   "attachments": {},
   "cell_type": "markdown",
   "metadata": {},
   "source": [
    "<p>\n",
    "1. Haga un programa en Python que reciba de par´ametro un nu´mero de segundos y que despliegue en pantalla, las horas, minutos y segundos que representan. Por ejemplo:\n",
    "Si el nu´mero de segundos recibidos fuera: 2743 entonces su programa deber´ıa desplegar:\n",
    "Horas: 0, Minutos: 45 , Segundos: 43\n",
    "Si el nu´mero de segundos recibidos fuera 5871: Horas: 1, Minutos: 37 , Segundos: 51\n",
    "Recuerde manejar excepciones y errores que considere necesarios.\n",
    "</p>"
   ]
  },
  {
   "cell_type": "markdown",
   "metadata": {},
   "source": []
  },
  {
   "cell_type": "code",
   "execution_count": null,
   "metadata": {},
   "outputs": [
    {
     "data": {
      "text/plain": [
       "(3800, 1, 3, 20)"
      ]
     },
     "execution_count": 22,
     "metadata": {},
     "output_type": "execute_result"
    }
   ],
   "source": [
    "segundos = int(input(\"Ingresa la cantidad de segundos \"))\n",
    "horas = segundos//60//60\n",
    "minutos = (segundos//60)-horas*60\n",
    "segundo = (segundos)-minutos*60-horas*60*60\n",
    "segundos,horas, minutos,segundo\n",
    "\n",
    "print(f\"Horas: {horas}, Minutos: {minutos}, Segundos: {segundo}\")"
   ]
  },
  {
   "cell_type": "code",
   "execution_count": 27,
   "metadata": {},
   "outputs": [
    {
     "name": "stderr",
     "output_type": "stream",
     "text": [
      "warning: LF will be replaced by CRLF in laboratorio2.ipynb.\n",
      "The file will have its original line endings in your working directory\n"
     ]
    }
   ],
   "source": [
    "!git add ."
   ]
  },
  {
   "cell_type": "code",
   "execution_count": 29,
   "metadata": {},
   "outputs": [
    {
     "name": "stdout",
     "output_type": "stream",
     "text": [
      "[main 10940c3] Esqueleto de la funcion\n",
      " 1 file changed, 106 insertions(+)\n",
      " create mode 100644 laboratorio2.ipynb\n"
     ]
    }
   ],
   "source": [
    "!git commit -m \"Esqueleto de la funcion\""
   ]
  },
  {
   "cell_type": "code",
   "execution_count": 30,
   "metadata": {},
   "outputs": [
    {
     "name": "stderr",
     "output_type": "stream",
     "text": [
      "To https://github.com/ronaldbailey/Laboratorio-2---Programaci-n-en-Python-.git\n",
      "   72a5948..10940c3  main -> main\n"
     ]
    }
   ],
   "source": [
    "!git push"
   ]
  },
  {
   "cell_type": "code",
   "execution_count": 38,
   "metadata": {},
   "outputs": [
    {
     "name": "stdout",
     "output_type": "stream",
     "text": [
      "Horas: 1, Minutos: 1, Segundos: 0\n",
      "programa terminado\n"
     ]
    }
   ],
   "source": [
    "try:\n",
    "    segundos = int(input(\"Ingresa la cantidad de segundos \"))\n",
    "    horas = segundos//60//60\n",
    "    minutos = (segundos//60)-horas*60\n",
    "    segundo = (segundos)-minutos*60-horas*60*60\n",
    "    segundos,horas, minutos,segundo\n",
    "    print(f\"Horas: {horas}, Minutos: {minutos}, Segundos: {segundo}\")\n",
    "except ValueError as error:\n",
    "    print('No ingrese numeros decimales ni letras')\n",
    "finally:\n",
    "    print(\"programa terminado\")\n",
    "\n"
   ]
  },
  {
   "cell_type": "code",
   "execution_count": 39,
   "metadata": {},
   "outputs": [
    {
     "name": "stderr",
     "output_type": "stream",
     "text": [
      "warning: LF will be replaced by CRLF in laboratorio2.ipynb.\n",
      "The file will have its original line endings in your working directory\n"
     ]
    },
    {
     "name": "stdout",
     "output_type": "stream",
     "text": [
      "[main 03bbd65] Incluido el manejo de errores\n",
      " 1 file changed, 66 insertions(+), 10 deletions(-)\n"
     ]
    },
    {
     "name": "stderr",
     "output_type": "stream",
     "text": [
      "To https://github.com/ronaldbailey/Laboratorio-2---Programaci-n-en-Python-.git\n",
      "   10940c3..03bbd65  main -> main\n"
     ]
    }
   ],
   "source": [
    "!git add .\n",
    "!git commit -m \"Incluido el manejo de errores\"\n",
    "!git push"
   ]
  },
  {
   "attachments": {},
   "cell_type": "markdown",
   "metadata": {},
   "source": [
    "<p>\n",
    "2 .Haga una funci´on en Python que dado un nu´mero entre 1 y 20. Y un car´acter cualquiera\n",
    "despliegue cuatro patrones triangulares.\n",
    "Por ejemplo si el usuario ingresara el nu´mero 4 y el s´ımbolo * el programa deber´a desplegar\n",
    "lo siguiente:\n",
    "</p>"
   ]
  },
  {
   "cell_type": "code",
   "execution_count": 62,
   "metadata": {},
   "outputs": [
    {
     "name": "stdout",
     "output_type": "stream",
     "text": [
      "x    xxxxxxxxxxxxxxxxxxxx    xxxxxxxxxxxxxxxxxxxxx    xxx\n",
      "xx    xxxxxxxxxxxxxxxxxxx    xxxxxxxxxxxxxxxxxxxx    xxxx\n",
      "xxx    xxxxxxxxxxxxxxxxxx    xxxxxxxxxxxxxxxxxxx    xxxxx\n",
      "xxxx    xxxxxxxxxxxxxxxxx    xxxxxxxxxxxxxxxxxx    xxxxxx\n",
      "xxxxx    xxxxxxxxxxxxxxxx    xxxxxxxxxxxxxxxxx    xxxxxxx\n",
      "xxxxxx    xxxxxxxxxxxxxxx    xxxxxxxxxxxxxxxx    xxxxxxxx\n",
      "xxxxxxx    xxxxxxxxxxxxxx    xxxxxxxxxxxxxxx    xxxxxxxxx\n",
      "xxxxxxxx    xxxxxxxxxxxxx    xxxxxxxxxxxxxx    xxxxxxxxxx\n",
      "xxxxxxxxx    xxxxxxxxxxxx    xxxxxxxxxxxxx    xxxxxxxxxxx\n",
      "xxxxxxxxxx    xxxxxxxxxxx    xxxxxxxxxxxx    xxxxxxxxxxxx\n",
      "xxxxxxxxxxx    xxxxxxxxxx    xxxxxxxxxxx    xxxxxxxxxxxxx\n",
      "xxxxxxxxxxxx    xxxxxxxxx    xxxxxxxxxx    xxxxxxxxxxxxxx\n",
      "xxxxxxxxxxxxx    xxxxxxxx    xxxxxxxxx    xxxxxxxxxxxxxxx\n",
      "xxxxxxxxxxxxxx    xxxxxxx    xxxxxxxx    xxxxxxxxxxxxxxxx\n",
      "xxxxxxxxxxxxxxx    xxxxxx    xxxxxxx    xxxxxxxxxxxxxxxxx\n",
      "xxxxxxxxxxxxxxxx    xxxxx    xxxxxx    xxxxxxxxxxxxxxxxxx\n",
      "xxxxxxxxxxxxxxxxx    xxxx    xxxxx    xxxxxxxxxxxxxxxxxxx\n",
      "xxxxxxxxxxxxxxxxxx    xxx    xxxx    xxxxxxxxxxxxxxxxxxxx\n",
      "xxxxxxxxxxxxxxxxxxx    xx    xxx    xxxxxxxxxxxxxxxxxxxxx\n",
      "xxxxxxxxxxxxxxxxxxxx    x    xx    xxxxxxxxxxxxxxxxxxxxxx\n"
     ]
    }
   ],
   "source": [
    "numero = int(input(\"ingres un numero del 1 al 20\"))\n",
    "caracter = input(\"ingrese un caracter\")\n",
    "\n",
    "for i in range(1,numero+1):\n",
    "    print(caracter*i+\"    \"+caracter*(numero-i+1)+\"    \"+caracter*(numero-i+2)+\"    \"+caracter*(i+2))"
   ]
  },
  {
   "cell_type": "code",
   "execution_count": 64,
   "metadata": {},
   "outputs": [
    {
     "name": "stdout",
     "output_type": "stream",
     "text": [
      "On branch main\n",
      "Your branch is up to date with 'origin/main'.\n",
      "\n",
      "nothing to commit, working tree clean\n"
     ]
    },
    {
     "name": "stderr",
     "output_type": "stream",
     "text": [
      "Everything up-to-date\n"
     ]
    }
   ],
   "source": [
    "!git add .\n",
    "!git commit -m \"Esqueleto del ejercicio 2\"\n",
    "!git push"
   ]
  },
  {
   "cell_type": "code",
   "execution_count": null,
   "metadata": {},
   "outputs": [],
   "source": []
  },
  {
   "cell_type": "code",
   "execution_count": null,
   "metadata": {},
   "outputs": [],
   "source": []
  }
 ],
 "metadata": {
  "kernelspec": {
   "display_name": ".lab1",
   "language": "python",
   "name": "python3"
  },
  "language_info": {
   "codemirror_mode": {
    "name": "ipython",
    "version": 3
   },
   "file_extension": ".py",
   "mimetype": "text/x-python",
   "name": "python",
   "nbconvert_exporter": "python",
   "pygments_lexer": "ipython3",
   "version": "3.10.4"
  },
  "orig_nbformat": 4,
  "vscode": {
   "interpreter": {
    "hash": "7adbce2b6e7e5f133ffdfc81941aca518029a9627b82a13940b2da088a335493"
   }
  }
 },
 "nbformat": 4,
 "nbformat_minor": 2
}
