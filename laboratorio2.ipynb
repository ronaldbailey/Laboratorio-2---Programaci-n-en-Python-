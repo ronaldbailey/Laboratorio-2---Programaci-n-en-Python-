{
 "cells": [
  {
   "attachments": {},
   "cell_type": "markdown",
   "metadata": {},
   "source": [
    "<p>\n",
    "1. Haga un programa en Python que reciba de par´ametro un nu´mero de segundos y que despliegue en pantalla, las horas, minutos y segundos que representan. Por ejemplo:\n",
    "Si el nu´mero de segundos recibidos fuera: 2743 entonces su programa deber´ıa desplegar:\n",
    "Horas: 0, Minutos: 45 , Segundos: 43\n",
    "Si el nu´mero de segundos recibidos fuera 5871: Horas: 1, Minutos: 37 , Segundos: 51\n",
    "Recuerde manejar excepciones y errores que considere necesarios.\n",
    "</p>"
   ]
  },
  {
   "cell_type": "markdown",
   "metadata": {},
   "source": []
  },
  {
   "cell_type": "code",
   "execution_count": null,
   "metadata": {},
   "outputs": [
    {
     "data": {
      "text/plain": [
       "(3800, 1, 3, 20)"
      ]
     },
     "execution_count": 22,
     "metadata": {},
     "output_type": "execute_result"
    }
   ],
   "source": [
    "segundos = int(input(\"Ingresa la cantidad de segundos \"))\n",
    "horas = segundos//60//60\n",
    "minutos = (segundos//60)-horas*60\n",
    "segundo = (segundos)-minutos*60-horas*60*60\n",
    "segundos,horas, minutos,segundo\n",
    "\n",
    "print(f\"Horas: {horas}, Minutos: {minutos}, Segundos: {segundo}\")"
   ]
  },
  {
   "cell_type": "code",
   "execution_count": 27,
   "metadata": {},
   "outputs": [
    {
     "name": "stderr",
     "output_type": "stream",
     "text": [
      "warning: LF will be replaced by CRLF in laboratorio2.ipynb.\n",
      "The file will have its original line endings in your working directory\n"
     ]
    }
   ],
   "source": [
    "!git add ."
   ]
  },
  {
   "cell_type": "code",
   "execution_count": 29,
   "metadata": {},
   "outputs": [
    {
     "name": "stdout",
     "output_type": "stream",
     "text": [
      "[main 10940c3] Esqueleto de la funcion\n",
      " 1 file changed, 106 insertions(+)\n",
      " create mode 100644 laboratorio2.ipynb\n"
     ]
    }
   ],
   "source": [
    "!git commit -m \"Esqueleto de la funcion\""
   ]
  },
  {
   "cell_type": "code",
   "execution_count": 30,
   "metadata": {},
   "outputs": [
    {
     "name": "stderr",
     "output_type": "stream",
     "text": [
      "To https://github.com/ronaldbailey/Laboratorio-2---Programaci-n-en-Python-.git\n",
      "   72a5948..10940c3  main -> main\n"
     ]
    }
   ],
   "source": [
    "!git push"
   ]
  },
  {
   "cell_type": "code",
   "execution_count": 38,
   "metadata": {},
   "outputs": [
    {
     "name": "stdout",
     "output_type": "stream",
     "text": [
      "Horas: 1, Minutos: 1, Segundos: 0\n",
      "programa terminado\n"
     ]
    }
   ],
   "source": [
    "try:\n",
    "    segundos = int(input(\"Ingresa la cantidad de segundos \"))\n",
    "    horas = segundos//60//60\n",
    "    minutos = (segundos//60)-horas*60\n",
    "    segundo = (segundos)-minutos*60-horas*60*60\n",
    "    segundos,horas, minutos,segundo\n",
    "    print(f\"Horas: {horas}, Minutos: {minutos}, Segundos: {segundo}\")\n",
    "except ValueError as error:\n",
    "    print('No ingrese numeros decimales ni letras')\n",
    "finally:\n",
    "    print(\"programa terminado\")\n",
    "\n"
   ]
  },
  {
   "cell_type": "code",
   "execution_count": 39,
   "metadata": {},
   "outputs": [
    {
     "name": "stderr",
     "output_type": "stream",
     "text": [
      "warning: LF will be replaced by CRLF in laboratorio2.ipynb.\n",
      "The file will have its original line endings in your working directory\n"
     ]
    },
    {
     "name": "stdout",
     "output_type": "stream",
     "text": [
      "[main 03bbd65] Incluido el manejo de errores\n",
      " 1 file changed, 66 insertions(+), 10 deletions(-)\n"
     ]
    },
    {
     "name": "stderr",
     "output_type": "stream",
     "text": [
      "To https://github.com/ronaldbailey/Laboratorio-2---Programaci-n-en-Python-.git\n",
      "   10940c3..03bbd65  main -> main\n"
     ]
    }
   ],
   "source": [
    "!git add .\n",
    "!git commit -m \"Incluido el manejo de errores\"\n",
    "!git push"
   ]
  },
  {
   "attachments": {},
   "cell_type": "markdown",
   "metadata": {},
   "source": [
    "<p>\n",
    "2 .Haga una funci´on en Python que dado un nu´mero entre 1 y 20. Y un car´acter cualquiera\n",
    "despliegue cuatro patrones triangulares.\n",
    "Por ejemplo si el usuario ingresara el nu´mero 4 y el s´ımbolo * el programa deber´a desplegar\n",
    "lo siguiente:\n",
    "</p>"
   ]
  },
  {
   "cell_type": "code",
   "execution_count": 62,
   "metadata": {},
   "outputs": [
    {
     "name": "stdout",
     "output_type": "stream",
     "text": [
      "x    xxxxxxxxxxxxxxxxxxxx    xxxxxxxxxxxxxxxxxxxxx    xxx\n",
      "xx    xxxxxxxxxxxxxxxxxxx    xxxxxxxxxxxxxxxxxxxx    xxxx\n",
      "xxx    xxxxxxxxxxxxxxxxxx    xxxxxxxxxxxxxxxxxxx    xxxxx\n",
      "xxxx    xxxxxxxxxxxxxxxxx    xxxxxxxxxxxxxxxxxx    xxxxxx\n",
      "xxxxx    xxxxxxxxxxxxxxxx    xxxxxxxxxxxxxxxxx    xxxxxxx\n",
      "xxxxxx    xxxxxxxxxxxxxxx    xxxxxxxxxxxxxxxx    xxxxxxxx\n",
      "xxxxxxx    xxxxxxxxxxxxxx    xxxxxxxxxxxxxxx    xxxxxxxxx\n",
      "xxxxxxxx    xxxxxxxxxxxxx    xxxxxxxxxxxxxx    xxxxxxxxxx\n",
      "xxxxxxxxx    xxxxxxxxxxxx    xxxxxxxxxxxxx    xxxxxxxxxxx\n",
      "xxxxxxxxxx    xxxxxxxxxxx    xxxxxxxxxxxx    xxxxxxxxxxxx\n",
      "xxxxxxxxxxx    xxxxxxxxxx    xxxxxxxxxxx    xxxxxxxxxxxxx\n",
      "xxxxxxxxxxxx    xxxxxxxxx    xxxxxxxxxx    xxxxxxxxxxxxxx\n",
      "xxxxxxxxxxxxx    xxxxxxxx    xxxxxxxxx    xxxxxxxxxxxxxxx\n",
      "xxxxxxxxxxxxxx    xxxxxxx    xxxxxxxx    xxxxxxxxxxxxxxxx\n",
      "xxxxxxxxxxxxxxx    xxxxxx    xxxxxxx    xxxxxxxxxxxxxxxxx\n",
      "xxxxxxxxxxxxxxxx    xxxxx    xxxxxx    xxxxxxxxxxxxxxxxxx\n",
      "xxxxxxxxxxxxxxxxx    xxxx    xxxxx    xxxxxxxxxxxxxxxxxxx\n",
      "xxxxxxxxxxxxxxxxxx    xxx    xxxx    xxxxxxxxxxxxxxxxxxxx\n",
      "xxxxxxxxxxxxxxxxxxx    xx    xxx    xxxxxxxxxxxxxxxxxxxxx\n",
      "xxxxxxxxxxxxxxxxxxxx    x    xx    xxxxxxxxxxxxxxxxxxxxxx\n"
     ]
    }
   ],
   "source": [
    "numero = int(input(\"ingres un numero del 1 al 20\"))\n",
    "caracter = input(\"ingrese un caracter\")\n",
    "\n",
    "for i in range(1,numero+1):\n",
    "    print(caracter*i+\"    \"+caracter*(numero-i+1)+\"    \"+caracter*(numero-i+2)+\"    \"+caracter*(i+2))"
   ]
  },
  {
   "cell_type": "code",
   "execution_count": 65,
   "metadata": {},
   "outputs": [
    {
     "name": "stderr",
     "output_type": "stream",
     "text": [
      "warning: LF will be replaced by CRLF in laboratorio2.ipynb.\n",
      "The file will have its original line endings in your working directory\n"
     ]
    },
    {
     "name": "stdout",
     "output_type": "stream",
     "text": [
      "[main e24a512] Esqueleto del ejercicio 2\n",
      " 1 file changed, 130 insertions(+)\n"
     ]
    },
    {
     "name": "stderr",
     "output_type": "stream",
     "text": [
      "To https://github.com/ronaldbailey/Laboratorio-2---Programaci-n-en-Python-.git\n",
      "   03bbd65..e24a512  main -> main\n"
     ]
    }
   ],
   "source": [
    "!git add .\n",
    "!git commit -m \"Esqueleto del ejercicio 2\"\n",
    "!git push"
   ]
  },
  {
   "cell_type": "code",
   "execution_count": 86,
   "metadata": {},
   "outputs": [
    {
     "name": "stdout",
     "output_type": "stream",
     "text": [
      "x    xxxxxxxxxxxxxxxxxxxx    xxxxxxxxxxxxxxxxxxxxx    xxx\n",
      "xx    xxxxxxxxxxxxxxxxxxx    xxxxxxxxxxxxxxxxxxxx    xxxx\n",
      "xxx    xxxxxxxxxxxxxxxxxx    xxxxxxxxxxxxxxxxxxx    xxxxx\n",
      "xxxx    xxxxxxxxxxxxxxxxx    xxxxxxxxxxxxxxxxxx    xxxxxx\n",
      "xxxxx    xxxxxxxxxxxxxxxx    xxxxxxxxxxxxxxxxx    xxxxxxx\n",
      "xxxxxx    xxxxxxxxxxxxxxx    xxxxxxxxxxxxxxxx    xxxxxxxx\n",
      "xxxxxxx    xxxxxxxxxxxxxx    xxxxxxxxxxxxxxx    xxxxxxxxx\n",
      "xxxxxxxx    xxxxxxxxxxxxx    xxxxxxxxxxxxxx    xxxxxxxxxx\n",
      "xxxxxxxxx    xxxxxxxxxxxx    xxxxxxxxxxxxx    xxxxxxxxxxx\n",
      "xxxxxxxxxx    xxxxxxxxxxx    xxxxxxxxxxxx    xxxxxxxxxxxx\n",
      "xxxxxxxxxxx    xxxxxxxxxx    xxxxxxxxxxx    xxxxxxxxxxxxx\n",
      "xxxxxxxxxxxx    xxxxxxxxx    xxxxxxxxxx    xxxxxxxxxxxxxx\n",
      "xxxxxxxxxxxxx    xxxxxxxx    xxxxxxxxx    xxxxxxxxxxxxxxx\n",
      "xxxxxxxxxxxxxx    xxxxxxx    xxxxxxxx    xxxxxxxxxxxxxxxx\n",
      "xxxxxxxxxxxxxxx    xxxxxx    xxxxxxx    xxxxxxxxxxxxxxxxx\n",
      "xxxxxxxxxxxxxxxx    xxxxx    xxxxxx    xxxxxxxxxxxxxxxxxx\n",
      "xxxxxxxxxxxxxxxxx    xxxx    xxxxx    xxxxxxxxxxxxxxxxxxx\n",
      "xxxxxxxxxxxxxxxxxx    xxx    xxxx    xxxxxxxxxxxxxxxxxxxx\n",
      "xxxxxxxxxxxxxxxxxxx    xx    xxx    xxxxxxxxxxxxxxxxxxxxx\n",
      "xxxxxxxxxxxxxxxxxxxx    x    xx    xxxxxxxxxxxxxxxxxxxxxx\n",
      "Proceso termindado!\n"
     ]
    }
   ],
   "source": [
    "try:\n",
    "    numero = int(input(\"ingres un numero del 1 al 20\"))\n",
    "    if (numero>0) and (numero<=20) :\n",
    "        caracter = input(\"ingrese un caracter\")\n",
    "        for i in range(1,numero+1):\n",
    "            print(caracter*i+\"    \"+caracter*(numero-i+1)+\"    \"+caracter*(numero-i+2)+\"    \"+caracter*(i+2))\n",
    "    else:\n",
    "        print(\"El numero que ingresaste tiene que estar entre 1 y 20 \")\n",
    "except ValueError as error:\n",
    "    print(\"Ingresaste caracteres o numeros decimales\")\n",
    "finally:\n",
    "    print(\"Proceso termindado!\")"
   ]
  },
  {
   "cell_type": "code",
   "execution_count": 87,
   "metadata": {},
   "outputs": [
    {
     "name": "stderr",
     "output_type": "stream",
     "text": [
      "warning: LF will be replaced by CRLF in laboratorio2.ipynb.\n",
      "The file will have its original line endings in your working directory\n"
     ]
    },
    {
     "name": "stdout",
     "output_type": "stream",
     "text": [
      "[main fab1226] manejo de errores\n",
      " 1 file changed, 62 insertions(+), 10 deletions(-)\n"
     ]
    },
    {
     "name": "stderr",
     "output_type": "stream",
     "text": [
      "To https://github.com/ronaldbailey/Laboratorio-2---Programaci-n-en-Python-.git\n",
      "   e24a512..fab1226  main -> main\n"
     ]
    }
   ],
   "source": [
    "!git add .\n",
    "!git commit -m \"manejo de errores\"\n",
    "!git push"
   ]
  },
  {
   "attachments": {},
   "cell_type": "markdown",
   "metadata": {},
   "source": [
    "<p>\n",
    "3. Haga un programa en Python que la fecha de nacimiento de una persona (puede ingresar por\n",
    "separado cada valor, es decir pedir primero d´ıa, luego mes y luego an˜o), despliegue la edad\n",
    "de la persona en an˜os, meses y d´ıas. Su resultado puede ser aproximado.\n",
    "</p>"
   ]
  },
  {
   "cell_type": "markdown",
   "metadata": {},
   "source": []
  },
  {
   "cell_type": "code",
   "execution_count": 104,
   "metadata": {},
   "outputs": [
    {
     "name": "stdout",
     "output_type": "stream",
     "text": [
      "La edad es aproximadamente 36 años, 5 meses y 23 días.\n",
      "Programa termindado!\n"
     ]
    }
   ],
   "source": [
    "from datetime import  date\n",
    "\n",
    "dia = input(\"Ingrese el dia\")\n",
    "mes = input(\"ingrese el mes\")\n",
    "anio = input(\"ingrese el año\")\n",
    "try:\n",
    "    diferencia = date.today() - date(int(anio), int(mes), int(dia))\n",
    "    edad_en_años = int(diferencia.days / 365)\n",
    "    edad_en_meses = int((diferencia.days % 365) / 30)\n",
    "    edad_en_días = int((diferencia.days % 365) % 30)\n",
    "    print(f\"La edad es aproximadamente {edad_en_años} años, {edad_en_meses} meses y {edad_en_días} días.\")\n",
    "except ValueError as error:\n",
    "    print(\"ingresaste valores erroneos\")\n",
    "finally:\n",
    "    print(\"Programa termindado!\")"
   ]
  },
  {
   "cell_type": "code",
   "execution_count": 105,
   "metadata": {},
   "outputs": [
    {
     "name": "stderr",
     "output_type": "stream",
     "text": [
      "warning: LF will be replaced by CRLF in laboratorio2.ipynb.\n",
      "The file will have its original line endings in your working directory\n"
     ]
    },
    {
     "name": "stdout",
     "output_type": "stream",
     "text": [
      "[main dd10357] Codigo del ejercicio 3\n",
      " 1 file changed, 86 insertions(+), 1 deletion(-)\n"
     ]
    },
    {
     "name": "stderr",
     "output_type": "stream",
     "text": [
      "To https://github.com/ronaldbailey/Laboratorio-2---Programaci-n-en-Python-.git\n",
      "   fab1226..dd10357  main -> main\n"
     ]
    }
   ],
   "source": [
    "!git add .\n",
    "!git commit -m \"Codigo del ejercicio 3\"\n",
    "!git push"
   ]
  },
  {
   "attachments": {},
   "cell_type": "markdown",
   "metadata": {},
   "source": [
    "<p>\n",
    "4. Escriba una funci´on en Python que dada una tupla de elementos (nu´meros o letras) esta se\n",
    "convierta a un string. Tomar nota del siguiente ejemplo:\n",
    "Si la entrada fuera: (10, 20, 40, 5, 70)\n",
    "La salida deber´ıa ser: 102040570\n",
    "</P>"
   ]
  },
  {
   "cell_type": "code",
   "execution_count": 107,
   "metadata": {},
   "outputs": [
    {
     "name": "stdout",
     "output_type": "stream",
     "text": [
      "102040570\n"
     ]
    }
   ],
   "source": [
    "tupla =  (10, 20, 40, 5, 70)\n",
    "\n",
    "def transformarTupla(tupla):\n",
    "    return ''.join([str(elemento) for elemento in tupla])\n",
    "\n",
    "print(transformarTupla(tupla))\n"
   ]
  },
  {
   "cell_type": "code",
   "execution_count": 108,
   "metadata": {},
   "outputs": [
    {
     "name": "stderr",
     "output_type": "stream",
     "text": [
      "warning: LF will be replaced by CRLF in laboratorio2.ipynb.\n",
      "The file will have its original line endings in your working directory\n"
     ]
    },
    {
     "name": "stdout",
     "output_type": "stream",
     "text": [
      "[main 6ce68f1] Funcion que convierte tuplas a string\n",
      " 1 file changed, 72 insertions(+), 1 deletion(-)\n"
     ]
    },
    {
     "name": "stderr",
     "output_type": "stream",
     "text": [
      "To https://github.com/ronaldbailey/Laboratorio-2---Programaci-n-en-Python-.git\n",
      "   dd10357..6ce68f1  main -> main\n"
     ]
    }
   ],
   "source": [
    "!git add .\n",
    "!git commit -m \"Funcion que convierte tuplas a string\"\n",
    "!git push"
   ]
  },
  {
   "attachments": {},
   "cell_type": "markdown",
   "metadata": {},
   "source": [
    "<p>\n",
    "5. Cree un programa en Python que dada una lista de tuplas, elimine las tuplas que est´an vac´ıas.\n",
    "Tomar nota del siguiente ejemplo:\n",
    "\n",
    "1. Si la lista fuera: [(), (), (’X’,), (’a’, ’b’), (’a’, ’b’, ’c’), (’d’)]\n",
    "2. El resultado deber´ıa ser: [(’X’), (’a’, ’b’), (’a’, ’b’, ’c’), ’d’]\n",
    "\n",
    "</p>"
   ]
  },
  {
   "cell_type": "code",
   "execution_count": 120,
   "metadata": {},
   "outputs": [
    {
     "name": "stdout",
     "output_type": "stream",
     "text": [
      "['X', ('a', 'b'), ('a', 'b', 'c'), 'd']\n"
     ]
    }
   ],
   "source": [
    "tuplaEjemplo = ((),() , 'X', ('a', 'b'), ('a', 'b', 'c'), ('d'))\n",
    "\n",
    "print([element for element in tuplaEjemplo if len(element) > 0])"
   ]
  },
  {
   "cell_type": "code",
   "execution_count": 122,
   "metadata": {},
   "outputs": [
    {
     "name": "stderr",
     "output_type": "stream",
     "text": [
      "warning: LF will be replaced by CRLF in laboratorio2.ipynb.\n",
      "The file will have its original line endings in your working directory\n"
     ]
    },
    {
     "name": "stdout",
     "output_type": "stream",
     "text": [
      "[main fb0606b] Funcion que retira los elementos vacios de una tupla\n",
      " 1 file changed, 35 insertions(+), 3 deletions(-)\n"
     ]
    },
    {
     "name": "stderr",
     "output_type": "stream",
     "text": [
      "To https://github.com/ronaldbailey/Laboratorio-2---Programaci-n-en-Python-.git\n",
      "   2dd4710..fb0606b  main -> main\n"
     ]
    }
   ],
   "source": [
    "!git add .\n",
    "!git commit -m \"Funcion que retira los elementos vacios de una tupla\"\n",
    "!git push"
   ]
  },
  {
   "attachments": {},
   "cell_type": "markdown",
   "metadata": {},
   "source": [
    "<p>\n",
    "Escribir un programa que gestione las facturas pendientes de cobro de una empresa. Las\n",
    "facturas se almacenar´an en un diccionario donde la llave de cada factura ser´a el nu´mero de\n",
    "factura (debe utilizar un numero de 4 d´ıgitos) y el valor el coste de la factura. El programa\n",
    "debe preguntar al usuario si quiere an˜adir una nueva factura, pagar una existente o terminar.\n",
    "Si desea an˜adir una nueva factura se preguntar´a por el nu´mero de factura y su coste y se\n",
    "an˜adir´a al diccionario, para confirmar que la factura se ingreso correctamente el programa\n",
    "debe desplegar el diccionario completo. Si se desea pagar una factura se preguntar´a por el\n",
    "nu´mero de factura y se eliminar´a del diccionario. Despu´es de cada operaci´on el programa\n",
    "debe mostrar en pantalla la cantidad cobrada hasta el momento y la cantidad pendiente de\n",
    "cobro. Puede utilizar otras estructuras de datos como apoyo si lo considera necesario.\n",
    "</p>"
   ]
  },
  {
   "cell_type": "code",
   "execution_count": 133,
   "metadata": {},
   "outputs": [
    {
     "name": "stdout",
     "output_type": "stream",
     "text": [
      "Factura añadida con éxito. Facturas pendientes de cobro: {'1234': 25.0}\n",
      "Total cobrado: $ 25.0\n",
      "Total pendiente de cobro: $ 25.0\n",
      "Factura añadida con éxito. Facturas pendientes de cobro: {'1234': 25.0, '5555': 55.0}\n",
      "Total cobrado: $ 80.0\n",
      "Total pendiente de cobro: $ 80.0\n",
      "Facturas pendientes de cobro:\n",
      "Número de factura: 1234\n",
      "Costo de la factura: $ 25.0\n",
      "Número de factura: 5555\n",
      "Costo de la factura: $ 55.0\n",
      "Total cobrado: $ 80.0\n",
      "Total pendiente de cobro: $ 80.0\n",
      "Facturas pendientes de cobro:\n",
      "Número de factura: 1234\n",
      "Costo de la factura: $ 25.0\n",
      "Número de factura: 5555\n",
      "Costo de la factura: $ 55.0\n",
      "Total cobrado: $ 80.0\n",
      "Total pendiente de cobro: $ 80.0\n",
      "Factura añadida con éxito. Facturas pendientes de cobro: {'1234': 25.0, '5555': 55.0, '7777': 45.0}\n",
      "Total cobrado: $ 125.0\n",
      "Total pendiente de cobro: $ 125.0\n",
      "Facturas pendientes de cobro:\n",
      "Número de factura: 1234\n",
      "Costo de la factura: $ 25.0\n",
      "Número de factura: 5555\n",
      "Costo de la factura: $ 55.0\n",
      "Número de factura: 7777\n",
      "Costo de la factura: $ 45.0\n",
      "Total cobrado: $ 125.0\n",
      "Total pendiente de cobro: $ 125.0\n",
      "Opción inválida. Intente de nuevo.\n",
      "Total cobrado: $ 125.0\n",
      "Total pendiente de cobro: $ 125.0\n"
     ]
    }
   ],
   "source": [
    "facturas = {}\n",
    "\n",
    "def mostrar_facturas():\n",
    "    print(\"Facturas pendientes de cobro:\")\n",
    "    for numero, costo in facturas.items():\n",
    "        print(\"Número de factura:\", numero)\n",
    "        print(\"Costo de la factura: $\", costo)\n",
    "\n",
    "while True:\n",
    "    opcion = input(\"¿Qué desea hacer? [a] Añadir factura, [p] Pagar factura, [v] Ver factura, [m] Mostrar facturas, [t] Terminar: \")\n",
    "\n",
    "    if opcion == 'a':\n",
    "        while True:\n",
    "            numero = input(\"Ingrese el número de factura (4 dígitos): \")\n",
    "            if len(numero) == 4 and numero.isdigit():\n",
    "                break\n",
    "            print(\"El número de factura debe ser un número de 4 dígitos.\")\n",
    "\n",
    "        while True:\n",
    "            costo_str = input(\"Ingrese el costo de la factura: \")\n",
    "            if costo_str.replace(\".\", \"\", 1).isdigit():\n",
    "                costo = float(costo_str)\n",
    "                break\n",
    "            print(\"El costo de la factura debe ser un número válido.\")\n",
    "\n",
    "        facturas[numero] = costo\n",
    "        print(\"Factura añadida con éxito. Facturas pendientes de cobro:\", facturas)\n",
    "\n",
    "    elif opcion == 'p':\n",
    "        numero = input(\"Ingrese el número de factura a pagar: \")\n",
    "\n",
    "        if numero in facturas:\n",
    "            del facturas[numero]\n",
    "            print(\"Factura pagada con éxito. Facturas pendientes de cobro:\", facturas)\n",
    "        else:\n",
    "            print(\"No existe ninguna factura con ese número.\")\n",
    "\n",
    "    elif opcion == 'v':\n",
    "        numero = input(\"Ingrese el número de factura a ver: \")\n",
    "\n",
    "        if numero in facturas:\n",
    "            print(\"Número de factura:\", numero)\n",
    "            print(\"Costo de la factura: $\", facturas[numero])\n",
    "        else:\n",
    "            print(\"No existe ninguna factura con ese número.\")\n",
    "\n",
    "    elif opcion == 'm':\n",
    "        mostrar_facturas()\n",
    "\n",
    "    elif opcion == 't':\n",
    "        break\n",
    "\n",
    "    else:\n",
    "        print(\"Opción inválida. Intente de nuevo.\")\n",
    "\n",
    "    total_cobrado = sum(facturas.values())\n",
    "    total_pendiente = sum(facturas.values())\n",
    "\n",
    "    print(\"Total cobrado: $\", total_cobrado)\n",
    "    print(\"Total pendiente de cobro: $\", total_pendiente)\n",
    "\n",
    "\n"
   ]
  },
  {
   "cell_type": "code",
   "execution_count": 135,
   "metadata": {},
   "outputs": [
    {
     "name": "stderr",
     "output_type": "stream",
     "text": [
      "warning: LF will be replaced by CRLF in laboratorio2.ipynb.\n",
      "The file will have its original line endings in your working directory\n"
     ]
    },
    {
     "name": "stdout",
     "output_type": "stream",
     "text": [
      "[main b99f0ba] Probando el programa de facturas\n",
      " 1 file changed, 5 insertions(+), 5 deletions(-)\n"
     ]
    },
    {
     "name": "stderr",
     "output_type": "stream",
     "text": [
      "To https://github.com/ronaldbailey/Laboratorio-2---Programaci-n-en-Python-.git\n",
      "   4b55c65..b99f0ba  main -> main\n"
     ]
    }
   ],
   "source": [
    "!git add .\n",
    "!git commit -m \"Probando el programa de facturas\"\n",
    "!git push"
   ]
  },
  {
   "attachments": {},
   "cell_type": "markdown",
   "metadata": {},
   "source": [
    "<p>\n",
    "8. Haga una funci´on en Python, que cree un set con todas las cartas de una baraja de Pocker utilizando el siguiente formato: Tipo-Numero. Utilice las letras T para tr´eboles, C para\n",
    "corazones, P para picas y E para espadas. Para los nu´meros utilice la numeraci´on del 1 al\n",
    "13. Por ejemplo E13 - ser´ıa Rey de Espadas, P01 ser´ıa As de Picas, T05 ser´ıa cinco de Tr´eboles.\n",
    "</p>"
   ]
  },
  {
   "cell_type": "code",
   "execution_count": 145,
   "metadata": {},
   "outputs": [],
   "source": [
    "def crear_baraja():\n",
    "    tipos = [\"T\", \"C\", \"P\", \"E\"]\n",
    "    numeros = [\"{:02d}\".format(i) for i in range(1, 14)]\n",
    "    baraja = set()\n",
    "    for tipo in tipos:\n",
    "        for numero in numeros:\n",
    "            carta = tipo + numero\n",
    "            baraja.add(carta)\n",
    "    return baraja"
   ]
  },
  {
   "cell_type": "code",
   "execution_count": 157,
   "metadata": {},
   "outputs": [],
   "source": [
    "baraja =crear_baraja()"
   ]
  },
  {
   "cell_type": "code",
   "execution_count": 147,
   "metadata": {},
   "outputs": [
    {
     "name": "stderr",
     "output_type": "stream",
     "text": [
      "warning: LF will be replaced by CRLF in laboratorio2.ipynb.\n",
      "The file will have its original line endings in your working directory\n"
     ]
    },
    {
     "name": "stdout",
     "output_type": "stream",
     "text": [
      "[main edbc1c2] crear baraja prueba 1\n",
      " 1 file changed, 107 insertions(+), 4 deletions(-)\n"
     ]
    },
    {
     "name": "stderr",
     "output_type": "stream",
     "text": [
      "To https://github.com/ronaldbailey/Laboratorio-2---Programaci-n-en-Python-.git\n",
      "   0ff5562..edbc1c2  main -> main\n"
     ]
    }
   ],
   "source": [
    "!git add .\n",
    "!git commit -m \"crear baraja prueba 1\"\n",
    "!git push"
   ]
  },
  {
   "cell_type": "code",
   "execution_count": 150,
   "metadata": {},
   "outputs": [
    {
     "name": "stderr",
     "output_type": "stream",
     "text": [
      "C:\\Users\\tkzero\\AppData\\Local\\Temp\\ipykernel_12144\\3724233147.py:4: DeprecationWarning: Sampling from a set deprecated\n",
      "since Python 3.9 and will be removed in a subsequent version.\n",
      "  set1 = set(random.sample(cartas_completas, n1))\n",
      "C:\\Users\\tkzero\\AppData\\Local\\Temp\\ipykernel_12144\\3724233147.py:6: DeprecationWarning: Sampling from a set deprecated\n",
      "since Python 3.9 and will be removed in a subsequent version.\n",
      "  set2 = set(random.sample(disponibles, n2))\n"
     ]
    },
    {
     "data": {
      "text/plain": [
       "({'C07', 'P05'}, {'C11', 'P01'})"
      ]
     },
     "execution_count": 150,
     "metadata": {},
     "output_type": "execute_result"
    }
   ],
   "source": [
    "import random\n",
    "\n",
    "def crear_sets_de_cartas(cartas_completas, n1, n2):   \n",
    "    set1 = set(random.sample(cartas_completas, n1))\n",
    "    disponibles = cartas_completas - set1\n",
    "    set2 = set(random.sample(disponibles, n2))\n",
    "    return set1, set2\n",
    "\n",
    "\n",
    "crear_sets_de_cartas(crear_baraja(), 2, 2)"
   ]
  },
  {
   "cell_type": "code",
   "execution_count": 151,
   "metadata": {},
   "outputs": [
    {
     "name": "stderr",
     "output_type": "stream",
     "text": [
      "warning: LF will be replaced by CRLF in laboratorio2.ipynb.\n",
      "The file will have its original line endings in your working directory\n"
     ]
    },
    {
     "name": "stdout",
     "output_type": "stream",
     "text": [
      "[main 8c11aac] Funcion para crear sets de cartas\n",
      " 1 file changed, 50 insertions(+), 5 deletions(-)\n"
     ]
    },
    {
     "name": "stderr",
     "output_type": "stream",
     "text": [
      "To https://github.com/ronaldbailey/Laboratorio-2---Programaci-n-en-Python-.git\n",
      "   edbc1c2..8c11aac  main -> main\n"
     ]
    }
   ],
   "source": [
    "!git add .\n",
    "!git commit -m \"Funcion para crear sets de cartas\"\n",
    "!git push"
   ]
  },
  {
   "cell_type": "code",
   "execution_count": 166,
   "metadata": {},
   "outputs": [
    {
     "name": "stderr",
     "output_type": "stream",
     "text": [
      "C:\\Users\\tkzero\\AppData\\Local\\Temp\\ipykernel_12144\\3724233147.py:4: DeprecationWarning: Sampling from a set deprecated\n",
      "since Python 3.9 and will be removed in a subsequent version.\n",
      "  set1 = set(random.sample(cartas_completas, n1))\n",
      "C:\\Users\\tkzero\\AppData\\Local\\Temp\\ipykernel_12144\\3724233147.py:6: DeprecationWarning: Sampling from a set deprecated\n",
      "since Python 3.9 and will be removed in a subsequent version.\n",
      "  set2 = set(random.sample(disponibles, n2))\n"
     ]
    },
    {
     "data": {
      "text/plain": [
       "({'C07', 'P06', 'P07', 'P12', 'T10'}, {'C09', 'C10', 'P05', 'P09', 'T13'})"
      ]
     },
     "execution_count": 166,
     "metadata": {},
     "output_type": "execute_result"
    }
   ],
   "source": [
    "set1,set2 = crear_sets_de_cartas(baraja, 5, 5)\n",
    "set1,set2"
   ]
  },
  {
   "cell_type": "code",
   "execution_count": 165,
   "metadata": {},
   "outputs": [
    {
     "name": "stdout",
     "output_type": "stream",
     "text": [
      "Probabilidad de intersección: 0.0\n"
     ]
    }
   ],
   "source": [
    "interseccion = set1.intersection(set2)\n",
    "probabilidad_interseccion = len(interseccion) / len(baraja)\n",
    "print(\"Probabilidad de intersección:\", probabilidad_interseccion)"
   ]
  },
  {
   "cell_type": "code",
   "execution_count": null,
   "metadata": {},
   "outputs": [],
   "source": [
    "!git add .\n",
    "!git commit -m \"Calculando la inteseccion entre los ser, es 0 porque todas las cartas son diferentes\"\n",
    "!git push"
   ]
  }
 ],
 "metadata": {
  "kernelspec": {
   "display_name": ".lab1",
   "language": "python",
   "name": "python3"
  },
  "language_info": {
   "codemirror_mode": {
    "name": "ipython",
    "version": 3
   },
   "file_extension": ".py",
   "mimetype": "text/x-python",
   "name": "python",
   "nbconvert_exporter": "python",
   "pygments_lexer": "ipython3",
   "version": "3.10.4"
  },
  "orig_nbformat": 4,
  "vscode": {
   "interpreter": {
    "hash": "7adbce2b6e7e5f133ffdfc81941aca518029a9627b82a13940b2da088a335493"
   }
  }
 },
 "nbformat": 4,
 "nbformat_minor": 2
}
